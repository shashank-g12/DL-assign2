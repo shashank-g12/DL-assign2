{
 "cells": [
  {
   "cell_type": "code",
   "execution_count": 1,
   "metadata": {},
   "outputs": [],
   "source": [
    "import torch\n",
    "import torchvision"
   ]
  },
  {
   "cell_type": "code",
   "execution_count": 2,
   "metadata": {},
   "outputs": [
    {
     "data": {
      "text/plain": [
       "<torch._C.Generator at 0x7fd5840f1b50>"
      ]
     },
     "execution_count": 2,
     "metadata": {},
     "output_type": "execute_result"
    }
   ],
   "source": [
    "n_epoch = 3\n",
    "batch_size_train = 64\n",
    "batch_size_test = 1000\n",
    "learning_rate = 0.01\n",
    "momentum = 0.5\n",
    "log_interval = 10\n",
    "\n",
    "random_seed = 1\n",
    "torch.backends.cudnn.enabled = False\n",
    "torch.manual_seed(random_seed)"
   ]
  },
  {
   "cell_type": "code",
   "execution_count": 3,
   "metadata": {},
   "outputs": [],
   "source": [
    "train_loader = torch.utils.data.DataLoader(torchvision.datasets.MNIST('~/files/', train = True, download = True,\n",
    "                                                                     transform = torchvision.transforms.Compose([\n",
    "                                                                         torchvision.transforms.ToTensor(),\n",
    "                                                                         torchvision.transforms.Normalize(\n",
    "                                                                         (0.1307,), (0.3081,))\n",
    "                                                                     ])),\n",
    "                                          batch_size = batch_size_train, shuffle = True)\n",
    "\n",
    "test_loader = torch.utils.data.DataLoader(torchvision.datasets.MNIST('~/files/', train = False, download = True,\n",
    "                                                                    transform = torchvision.transforms.Compose([\n",
    "                                                                        torchvision.transforms.ToTensor(),\n",
    "                                                                        torchvision.transforms.Normalize(\n",
    "                                                                        (0.1307,), (0.3081,))\n",
    "                                                                    ])),\n",
    "                                         batch_size = batch_size_test, shuffle = True)"
   ]
  },
  {
   "cell_type": "code",
   "execution_count": 4,
   "metadata": {},
   "outputs": [],
   "source": [
    "ex = enumerate(test_loader)"
   ]
  },
  {
   "cell_type": "code",
   "execution_count": 5,
   "metadata": {},
   "outputs": [
    {
     "name": "stdout",
     "output_type": "stream",
     "text": [
      "torch.Size([1000, 1, 28, 28]) 0\n"
     ]
    }
   ],
   "source": [
    "idx, (data,targets) = next(ex)\n",
    "print(data.shape,idx)"
   ]
  },
  {
   "cell_type": "code",
   "execution_count": 6,
   "metadata": {},
   "outputs": [
    {
     "data": {
      "image/png": "[encoded data removed]",
      "text/plain": [
       "<Figure size 432x288 with 6 Axes>"
      ]
     },
     "metadata": {},
     "output_type": "display_data"
    }
   ],
   "source": [
    "import matplotlib.pyplot as plt\n",
    "\n",
    "fig = plt.figure()\n",
    "for i in range(6):\n",
    "    plt.subplot(2,3,i+1)\n",
    "    plt.tight_layout()\n",
    "    plt.imshow(data[i][0], cmap = 'gray', interpolation = 'none')\n",
    "    plt.title(\"Ground Truth: {}\".format(targets[i]))\n",
    "    plt.xticks([])\n",
    "    plt.yticks([])\n",
    "plt.show()"
   ]
  },
  {
   "cell_type": "code",
   "execution_count": 7,
   "metadata": {},
   "outputs": [],
   "source": [
    "import torch.nn as nn\n",
    "import torch.nn.functional as F\n",
    "import torch.optim as optim"
   ]
  },
  {
   "cell_type": "code",
   "execution_count": 8,
   "metadata": {},
   "outputs": [],
   "source": [
    "class Net(nn.Module):\n",
    "    def __init__(self):\n",
    "        super(Net, self).__init__()\n",
    "        self.conv1 = nn.Conv2d(1,10,kernel_size = 5)\n",
    "        self.conv2 = nn.Conv2d(10,20, kernel_size = 5)\n",
    "        self.conv2_drop = nn.Dropout2d()\n",
    "        self.fc1 = nn.Linear(320, 50)\n",
    "        self.fc2 = nn.Linear(50, 10)\n",
    "        \n",
    "    def forward(self, x):\n",
    "        x = F.relu(F.max_pool2d(self.conv1(x), 2))\n",
    "        x = F.relu(F.max_pool2d(self.conv2_drop(self.conv2(x)), 2))\n",
    "        x = x.view(-1, 320)\n",
    "        x = F.relu(self.fc1(x))\n",
    "        x = F.dropout(x, training=self.training)\n",
    "        x = self.fc2(x)\n",
    "        return F.log_softmax(x)"
   ]
  },
  {
   "cell_type": "code",
   "execution_count": 9,
   "metadata": {},
   "outputs": [],
   "source": [
    "network = Net()\n",
    "optimizer = optim.SGD(network.parameters(), lr = learning_rate, momentum = momentum)"
   ]
  },
  {
   "cell_type": "code",
   "execution_count": 10,
   "metadata": {},
   "outputs": [],
   "source": [
    "grad_value = []\n",
    "train_losses = []\n",
    "train_counter = []\n",
    "test_losses = []\n",
    "test_counter = [i*len(train_loader.dataset) for i in range(n_epoch + 1)]"
   ]
  },
  {
   "cell_type": "code",
   "execution_count": 11,
   "metadata": {},
   "outputs": [],
   "source": [
    "def train(epoch):\n",
    "    network.train()\n",
    "    for batch_idx, (data, target) in enumerate(train_loader):\n",
    "        optimizer.zero_grad()\n",
    "        output = network(data)\n",
    "        loss = F.nll_loss(output, target)\n",
    "        loss.backward()\n",
    "        optimizer.step()\n",
    "        if batch_idx % log_interval == 0:\n",
    "            print('Train Epoch : {} [{}/{} ({:.0f}%)] \\tLoss: {:.6f}'.format(\n",
    "              epoch, batch_idx * len(data), len(train_loader.dataset),\n",
    "              100. * batch_idx / len(train_loader), loss.item()))\n",
    "            train_losses.append(loss.item())\n",
    "            train_counter.append(batch_idx*len(data) + (epoch-1)*len(train_loader.dataset))\n",
    "            grad_value.append(grad_flow(network.named_parameters()))"
   ]
  },
  {
   "cell_type": "code",
   "execution_count": 12,
   "metadata": {},
   "outputs": [],
   "source": [
    "def grad_flow(named_parameters):\n",
    "    sum_g = 0\n",
    "    for n, p in named_parameters:\n",
    "        if(p.requires_grad) and (\"bias\" not in n):\n",
    "            sum_g = sum_g + p.grad.norm().item()\n",
    "    return sum_g"
   ]
  },
  {
   "cell_type": "code",
   "execution_count": 13,
   "metadata": {},
   "outputs": [],
   "source": [
    "def test():\n",
    "    network.eval()\n",
    "    test_loss = 0\n",
    "    correct = 0\n",
    "    with torch.no_grad():\n",
    "        for data, target in test_loader:\n",
    "            output = network(data)\n",
    "            test_loss += F.nll_loss(output, target, size_average=False).item()\n",
    "            pred = output.data.max(1, keepdim=True)[1]\n",
    "            correct += pred.eq(target.data.view_as(pred)).sum()\n",
    "        test_loss /= len(test_loader.dataset)\n",
    "        test_losses.append(test_loss)\n",
    "        print('\\nTest set: Avg. loss: {:.4f}, Accuracy: {}/{} ({:.0f}%)\\n'.format(\n",
    "            test_loss, correct, len(test_loader.dataset),\n",
    "            100. * correct / len(test_loader.dataset)))"
   ]
  },
  {
   "cell_type": "code",
   "execution_count": 14,
   "metadata": {
    "scrolled": true
   },
   "outputs": [
    {
     "name": "stderr",
     "output_type": "stream",
     "text": [
      "/home/shashank/anaconda3/envs/torch/lib/python3.7/site-packages/ipykernel_launcher.py:17: UserWarning: Implicit dimension choice for log_softmax has been deprecated. Change the call to include dim=X as an argument.\n",
      "/home/shashank/anaconda3/envs/torch/lib/python3.7/site-packages/torch/nn/_reduction.py:44: UserWarning: size_average and reduce args will be deprecated, please use reduction='sum' instead.\n",
      "  warnings.warn(warning.format(ret))\n"
     ]
    },
    {
     "name": "stdout",
     "output_type": "stream",
     "text": [
      "\n",
      "Test set: Avg. loss: 2.3089, Accuracy: 674/10000 (7%)\n",
      "\n",
      "Train Epoch : 1 [0/60000 (0%)] \tLoss: 2.368649\n"
     ]
    },
    {
     "name": "stderr",
     "output_type": "stream",
     "text": [
      "/home/shashank/anaconda3/envs/torch/lib/python3.7/site-packages/torch/autograd/__init__.py:132: UserWarning: CUDA initialization: Found no NVIDIA driver on your system. Please check that you have an NVIDIA GPU and installed a driver from http://www.nvidia.com/Download/index.aspx (Triggered internally at  /pytorch/c10/cuda/CUDAFunctions.cpp:100.)\n",
      "  allow_unreachable=True)  # allow_unreachable flag\n"
     ]
    },
    {
     "name": "stdout",
     "output_type": "stream",
     "text": [
      "Train Epoch : 1 [640/60000 (1%)] \tLoss: 2.298366\n",
      "Train Epoch : 1 [1280/60000 (2%)] \tLoss: 2.294433\n",
      "Train Epoch : 1 [1920/60000 (3%)] \tLoss: 2.260970\n",
      "Train Epoch : 1 [2560/60000 (4%)] \tLoss: 2.295450\n",
      "Train Epoch : 1 [3200/60000 (5%)] \tLoss: 2.239505\n",
      "Train Epoch : 1 [3840/60000 (6%)] \tLoss: 2.274136\n",
      "Train Epoch : 1 [4480/60000 (7%)] \tLoss: 2.225711\n",
      "Train Epoch : 1 [5120/60000 (9%)] \tLoss: 2.168033\n",
      "Train Epoch : 1 [5760/60000 (10%)] \tLoss: 2.138118\n",
      "Train Epoch : 1 [6400/60000 (11%)] \tLoss: 2.061368\n",
      "Train Epoch : 1 [7040/60000 (12%)] \tLoss: 1.945130\n",
      "Train Epoch : 1 [7680/60000 (13%)] \tLoss: 1.949193\n",
      "Train Epoch : 1 [8320/60000 (14%)] \tLoss: 1.750880\n",
      "Train Epoch : 1 [8960/60000 (15%)] \tLoss: 1.642634\n",
      "Train Epoch : 1 [9600/60000 (16%)] \tLoss: 1.585531\n",
      "Train Epoch : 1 [10240/60000 (17%)] \tLoss: 1.416778\n",
      "Train Epoch : 1 [10880/60000 (18%)] \tLoss: 1.314596\n",
      "Train Epoch : 1 [11520/60000 (19%)] \tLoss: 1.256788\n",
      "Train Epoch : 1 [12160/60000 (20%)] \tLoss: 1.344633\n",
      "Train Epoch : 1 [12800/60000 (21%)] \tLoss: 1.077739\n",
      "Train Epoch : 1 [13440/60000 (22%)] \tLoss: 1.081739\n",
      "Train Epoch : 1 [14080/60000 (23%)] \tLoss: 0.987016\n",
      "Train Epoch : 1 [14720/60000 (25%)] \tLoss: 1.033361\n",
      "Train Epoch : 1 [15360/60000 (26%)] \tLoss: 0.897583\n",
      "Train Epoch : 1 [16000/60000 (27%)] \tLoss: 0.933018\n",
      "Train Epoch : 1 [16640/60000 (28%)] \tLoss: 0.944572\n",
      "Train Epoch : 1 [17280/60000 (29%)] \tLoss: 0.757197\n",
      "Train Epoch : 1 [17920/60000 (30%)] \tLoss: 0.903085\n",
      "Train Epoch : 1 [18560/60000 (31%)] \tLoss: 0.852462\n",
      "Train Epoch : 1 [19200/60000 (32%)] \tLoss: 0.822050\n",
      "Train Epoch : 1 [19840/60000 (33%)] \tLoss: 0.797716\n",
      "Train Epoch : 1 [20480/60000 (34%)] \tLoss: 1.010427\n",
      "Train Epoch : 1 [21120/60000 (35%)] \tLoss: 0.751739\n",
      "Train Epoch : 1 [21760/60000 (36%)] \tLoss: 0.779125\n",
      "Train Epoch : 1 [22400/60000 (37%)] \tLoss: 0.773559\n",
      "Train Epoch : 1 [23040/60000 (38%)] \tLoss: 0.987848\n",
      "Train Epoch : 1 [23680/60000 (39%)] \tLoss: 0.630057\n",
      "Train Epoch : 1 [24320/60000 (41%)] \tLoss: 0.810046\n",
      "Train Epoch : 1 [24960/60000 (42%)] \tLoss: 0.641265\n",
      "Train Epoch : 1 [25600/60000 (43%)] \tLoss: 0.589508\n",
      "Train Epoch : 1 [26240/60000 (44%)] \tLoss: 0.719474\n",
      "Train Epoch : 1 [26880/60000 (45%)] \tLoss: 0.533709\n",
      "Train Epoch : 1 [27520/60000 (46%)] \tLoss: 0.582143\n",
      "Train Epoch : 1 [28160/60000 (47%)] \tLoss: 0.625185\n",
      "Train Epoch : 1 [28800/60000 (48%)] \tLoss: 0.683204\n",
      "Train Epoch : 1 [29440/60000 (49%)] \tLoss: 0.515797\n",
      "Train Epoch : 1 [30080/60000 (50%)] \tLoss: 0.659783\n",
      "Train Epoch : 1 [30720/60000 (51%)] \tLoss: 0.644429\n",
      "Train Epoch : 1 [31360/60000 (52%)] \tLoss: 0.702305\n",
      "Train Epoch : 1 [32000/60000 (53%)] \tLoss: 0.493195\n",
      "Train Epoch : 1 [32640/60000 (54%)] \tLoss: 0.676486\n",
      "Train Epoch : 1 [33280/60000 (55%)] \tLoss: 0.501093\n",
      "Train Epoch : 1 [33920/60000 (57%)] \tLoss: 0.673537\n",
      "Train Epoch : 1 [34560/60000 (58%)] \tLoss: 0.496545\n",
      "Train Epoch : 1 [35200/60000 (59%)] \tLoss: 0.478071\n",
      "Train Epoch : 1 [35840/60000 (60%)] \tLoss: 0.775596\n",
      "Train Epoch : 1 [36480/60000 (61%)] \tLoss: 0.564481\n",
      "Train Epoch : 1 [37120/60000 (62%)] \tLoss: 0.732745\n",
      "Train Epoch : 1 [37760/60000 (63%)] \tLoss: 0.781877\n",
      "Train Epoch : 1 [38400/60000 (64%)] \tLoss: 0.369736\n",
      "Train Epoch : 1 [39040/60000 (65%)] \tLoss: 0.705664\n",
      "Train Epoch : 1 [39680/60000 (66%)] \tLoss: 0.456457\n",
      "Train Epoch : 1 [40320/60000 (67%)] \tLoss: 0.470908\n",
      "Train Epoch : 1 [40960/60000 (68%)] \tLoss: 0.606294\n",
      "Train Epoch : 1 [41600/60000 (69%)] \tLoss: 0.725850\n",
      "Train Epoch : 1 [42240/60000 (70%)] \tLoss: 0.659964\n",
      "Train Epoch : 1 [42880/60000 (71%)] \tLoss: 0.555572\n",
      "Train Epoch : 1 [43520/60000 (72%)] \tLoss: 0.615302\n",
      "Train Epoch : 1 [44160/60000 (74%)] \tLoss: 0.365783\n",
      "Train Epoch : 1 [44800/60000 (75%)] \tLoss: 0.588280\n",
      "Train Epoch : 1 [45440/60000 (76%)] \tLoss: 0.338529\n",
      "Train Epoch : 1 [46080/60000 (77%)] \tLoss: 0.575159\n",
      "Train Epoch : 1 [46720/60000 (78%)] \tLoss: 0.383015\n",
      "Train Epoch : 1 [47360/60000 (79%)] \tLoss: 0.510583\n",
      "Train Epoch : 1 [48000/60000 (80%)] \tLoss: 0.735915\n",
      "Train Epoch : 1 [48640/60000 (81%)] \tLoss: 0.732159\n",
      "Train Epoch : 1 [49280/60000 (82%)] \tLoss: 0.673880\n",
      "Train Epoch : 1 [49920/60000 (83%)] \tLoss: 0.733721\n",
      "Train Epoch : 1 [50560/60000 (84%)] \tLoss: 0.893896\n",
      "Train Epoch : 1 [51200/60000 (85%)] \tLoss: 0.511897\n",
      "Train Epoch : 1 [51840/60000 (86%)] \tLoss: 0.561030\n",
      "Train Epoch : 1 [52480/60000 (87%)] \tLoss: 0.428277\n",
      "Train Epoch : 1 [53120/60000 (88%)] \tLoss: 0.346293\n",
      "Train Epoch : 1 [53760/60000 (90%)] \tLoss: 0.502134\n",
      "Train Epoch : 1 [54400/60000 (91%)] \tLoss: 0.531624\n",
      "Train Epoch : 1 [55040/60000 (92%)] \tLoss: 0.512467\n",
      "Train Epoch : 1 [55680/60000 (93%)] \tLoss: 0.548752\n",
      "Train Epoch : 1 [56320/60000 (94%)] \tLoss: 0.364434\n",
      "Train Epoch : 1 [56960/60000 (95%)] \tLoss: 0.549556\n",
      "Train Epoch : 1 [57600/60000 (96%)] \tLoss: 0.564279\n",
      "Train Epoch : 1 [58240/60000 (97%)] \tLoss: 0.473650\n",
      "Train Epoch : 1 [58880/60000 (98%)] \tLoss: 0.337275\n",
      "Train Epoch : 1 [59520/60000 (99%)] \tLoss: 0.445138\n",
      "\n",
      "Test set: Avg. loss: 0.1932, Accuracy: 9430/10000 (94%)\n",
      "\n",
      "Train Epoch : 2 [0/60000 (0%)] \tLoss: 0.380058\n",
      "Train Epoch : 2 [640/60000 (1%)] \tLoss: 0.499972\n",
      "Train Epoch : 2 [1280/60000 (2%)] \tLoss: 0.477575\n",
      "Train Epoch : 2 [1920/60000 (3%)] \tLoss: 0.392865\n",
      "Train Epoch : 2 [2560/60000 (4%)] \tLoss: 0.563205\n",
      "Train Epoch : 2 [3200/60000 (5%)] \tLoss: 0.588841\n",
      "Train Epoch : 2 [3840/60000 (6%)] \tLoss: 0.283778\n",
      "Train Epoch : 2 [4480/60000 (7%)] \tLoss: 0.704612\n",
      "Train Epoch : 2 [5120/60000 (9%)] \tLoss: 0.445895\n",
      "Train Epoch : 2 [5760/60000 (10%)] \tLoss: 0.481226\n",
      "Train Epoch : 2 [6400/60000 (11%)] \tLoss: 0.422680\n",
      "Train Epoch : 2 [7040/60000 (12%)] \tLoss: 0.613267\n",
      "Train Epoch : 2 [7680/60000 (13%)] \tLoss: 0.519589\n",
      "Train Epoch : 2 [8320/60000 (14%)] \tLoss: 0.490870\n",
      "Train Epoch : 2 [8960/60000 (15%)] \tLoss: 0.488598\n",
      "Train Epoch : 2 [9600/60000 (16%)] \tLoss: 0.381749\n",
      "Train Epoch : 2 [10240/60000 (17%)] \tLoss: 0.441431\n",
      "Train Epoch : 2 [10880/60000 (18%)] \tLoss: 0.302695\n",
      "Train Epoch : 2 [11520/60000 (19%)] \tLoss: 0.376325\n",
      "Train Epoch : 2 [12160/60000 (20%)] \tLoss: 0.336179\n",
      "Train Epoch : 2 [12800/60000 (21%)] \tLoss: 0.509484\n",
      "Train Epoch : 2 [13440/60000 (22%)] \tLoss: 0.412999\n",
      "Train Epoch : 2 [14080/60000 (23%)] \tLoss: 0.371890\n",
      "Train Epoch : 2 [14720/60000 (25%)] \tLoss: 0.312038\n",
      "Train Epoch : 2 [15360/60000 (26%)] \tLoss: 0.394041\n",
      "Train Epoch : 2 [16000/60000 (27%)] \tLoss: 0.353588\n",
      "Train Epoch : 2 [16640/60000 (28%)] \tLoss: 0.442097\n",
      "Train Epoch : 2 [17280/60000 (29%)] \tLoss: 0.400663\n",
      "Train Epoch : 2 [17920/60000 (30%)] \tLoss: 0.639995\n",
      "Train Epoch : 2 [18560/60000 (31%)] \tLoss: 0.398282\n",
      "Train Epoch : 2 [19200/60000 (32%)] \tLoss: 0.310408\n",
      "Train Epoch : 2 [19840/60000 (33%)] \tLoss: 0.261702\n",
      "Train Epoch : 2 [20480/60000 (34%)] \tLoss: 0.396319\n",
      "Train Epoch : 2 [21120/60000 (35%)] \tLoss: 0.281433\n",
      "Train Epoch : 2 [21760/60000 (36%)] \tLoss: 0.268006\n",
      "Train Epoch : 2 [22400/60000 (37%)] \tLoss: 0.417524\n",
      "Train Epoch : 2 [23040/60000 (38%)] \tLoss: 0.541511\n",
      "Train Epoch : 2 [23680/60000 (39%)] \tLoss: 0.414646\n",
      "Train Epoch : 2 [24320/60000 (41%)] \tLoss: 0.289488\n",
      "Train Epoch : 2 [24960/60000 (42%)] \tLoss: 0.414832\n",
      "Train Epoch : 2 [25600/60000 (43%)] \tLoss: 0.558628\n",
      "Train Epoch : 2 [26240/60000 (44%)] \tLoss: 0.297655\n",
      "Train Epoch : 2 [26880/60000 (45%)] \tLoss: 0.549870\n",
      "Train Epoch : 2 [27520/60000 (46%)] \tLoss: 0.520580\n",
      "Train Epoch : 2 [28160/60000 (47%)] \tLoss: 0.436380\n",
      "Train Epoch : 2 [28800/60000 (48%)] \tLoss: 0.427841\n",
      "Train Epoch : 2 [29440/60000 (49%)] \tLoss: 0.377672\n",
      "Train Epoch : 2 [30080/60000 (50%)] \tLoss: 0.575818\n",
      "Train Epoch : 2 [30720/60000 (51%)] \tLoss: 0.282856\n",
      "Train Epoch : 2 [31360/60000 (52%)] \tLoss: 0.387899\n",
      "Train Epoch : 2 [32000/60000 (53%)] \tLoss: 0.239406\n",
      "Train Epoch : 2 [32640/60000 (54%)] \tLoss: 0.278382\n",
      "Train Epoch : 2 [33280/60000 (55%)] \tLoss: 0.333671\n",
      "Train Epoch : 2 [33920/60000 (57%)] \tLoss: 0.302439\n",
      "Train Epoch : 2 [34560/60000 (58%)] \tLoss: 0.253414\n",
      "Train Epoch : 2 [35200/60000 (59%)] \tLoss: 0.678468\n",
      "Train Epoch : 2 [35840/60000 (60%)] \tLoss: 0.272667\n",
      "Train Epoch : 2 [36480/60000 (61%)] \tLoss: 0.357421\n",
      "Train Epoch : 2 [37120/60000 (62%)] \tLoss: 0.367713\n",
      "Train Epoch : 2 [37760/60000 (63%)] \tLoss: 0.359923\n",
      "Train Epoch : 2 [38400/60000 (64%)] \tLoss: 0.343408\n",
      "Train Epoch : 2 [39040/60000 (65%)] \tLoss: 0.413386\n",
      "Train Epoch : 2 [39680/60000 (66%)] \tLoss: 0.263324\n",
      "Train Epoch : 2 [40320/60000 (67%)] \tLoss: 0.455600\n",
      "Train Epoch : 2 [40960/60000 (68%)] \tLoss: 0.227116\n"
     ]
    },
    {
     "name": "stdout",
     "output_type": "stream",
     "text": [
      "Train Epoch : 2 [41600/60000 (69%)] \tLoss: 0.191254\n",
      "Train Epoch : 2 [42240/60000 (70%)] \tLoss: 0.213719\n",
      "Train Epoch : 2 [42880/60000 (71%)] \tLoss: 0.417919\n",
      "Train Epoch : 2 [43520/60000 (72%)] \tLoss: 0.516177\n",
      "Train Epoch : 2 [44160/60000 (74%)] \tLoss: 0.534748\n",
      "Train Epoch : 2 [44800/60000 (75%)] \tLoss: 0.250047\n",
      "Train Epoch : 2 [45440/60000 (76%)] \tLoss: 0.427577\n",
      "Train Epoch : 2 [46080/60000 (77%)] \tLoss: 0.339915\n",
      "Train Epoch : 2 [46720/60000 (78%)] \tLoss: 0.397955\n",
      "Train Epoch : 2 [47360/60000 (79%)] \tLoss: 0.332257\n",
      "Train Epoch : 2 [48000/60000 (80%)] \tLoss: 0.313488\n",
      "Train Epoch : 2 [48640/60000 (81%)] \tLoss: 0.282826\n",
      "Train Epoch : 2 [49280/60000 (82%)] \tLoss: 0.344121\n",
      "Train Epoch : 2 [49920/60000 (83%)] \tLoss: 0.154136\n",
      "Train Epoch : 2 [50560/60000 (84%)] \tLoss: 0.343768\n",
      "Train Epoch : 2 [51200/60000 (85%)] \tLoss: 0.273400\n",
      "Train Epoch : 2 [51840/60000 (86%)] \tLoss: 0.328650\n",
      "Train Epoch : 2 [52480/60000 (87%)] \tLoss: 0.214224\n",
      "Train Epoch : 2 [53120/60000 (88%)] \tLoss: 0.609043\n",
      "Train Epoch : 2 [53760/60000 (90%)] \tLoss: 0.493672\n",
      "Train Epoch : 2 [54400/60000 (91%)] \tLoss: 0.356886\n",
      "Train Epoch : 2 [55040/60000 (92%)] \tLoss: 0.443752\n",
      "Train Epoch : 2 [55680/60000 (93%)] \tLoss: 0.509839\n",
      "Train Epoch : 2 [56320/60000 (94%)] \tLoss: 0.346221\n",
      "Train Epoch : 2 [56960/60000 (95%)] \tLoss: 0.182108\n",
      "Train Epoch : 2 [57600/60000 (96%)] \tLoss: 0.512144\n",
      "Train Epoch : 2 [58240/60000 (97%)] \tLoss: 0.355451\n",
      "Train Epoch : 2 [58880/60000 (98%)] \tLoss: 0.263498\n",
      "Train Epoch : 2 [59520/60000 (99%)] \tLoss: 0.294234\n",
      "\n",
      "Test set: Avg. loss: 0.1199, Accuracy: 9645/10000 (96%)\n",
      "\n",
      "Train Epoch : 3 [0/60000 (0%)] \tLoss: 0.332934\n",
      "Train Epoch : 3 [640/60000 (1%)] \tLoss: 0.274274\n",
      "Train Epoch : 3 [1280/60000 (2%)] \tLoss: 0.331606\n",
      "Train Epoch : 3 [1920/60000 (3%)] \tLoss: 0.384711\n",
      "Train Epoch : 3 [2560/60000 (4%)] \tLoss: 0.371885\n",
      "Train Epoch : 3 [3200/60000 (5%)] \tLoss: 0.179097\n",
      "Train Epoch : 3 [3840/60000 (6%)] \tLoss: 0.349611\n",
      "Train Epoch : 3 [4480/60000 (7%)] \tLoss: 0.117897\n",
      "Train Epoch : 3 [5120/60000 (9%)] \tLoss: 0.211509\n",
      "Train Epoch : 3 [5760/60000 (10%)] \tLoss: 0.448977\n",
      "Train Epoch : 3 [6400/60000 (11%)] \tLoss: 0.258139\n",
      "Train Epoch : 3 [7040/60000 (12%)] \tLoss: 0.320511\n",
      "Train Epoch : 3 [7680/60000 (13%)] \tLoss: 0.229501\n",
      "Train Epoch : 3 [8320/60000 (14%)] \tLoss: 0.248648\n",
      "Train Epoch : 3 [8960/60000 (15%)] \tLoss: 0.231551\n",
      "Train Epoch : 3 [9600/60000 (16%)] \tLoss: 0.345548\n",
      "Train Epoch : 3 [10240/60000 (17%)] \tLoss: 0.147330\n",
      "Train Epoch : 3 [10880/60000 (18%)] \tLoss: 0.270780\n",
      "Train Epoch : 3 [11520/60000 (19%)] \tLoss: 0.288828\n",
      "Train Epoch : 3 [12160/60000 (20%)] \tLoss: 0.209190\n",
      "Train Epoch : 3 [12800/60000 (21%)] \tLoss: 0.393294\n",
      "Train Epoch : 3 [13440/60000 (22%)] \tLoss: 0.482229\n",
      "Train Epoch : 3 [14080/60000 (23%)] \tLoss: 0.230237\n",
      "Train Epoch : 3 [14720/60000 (25%)] \tLoss: 0.284862\n",
      "Train Epoch : 3 [15360/60000 (26%)] \tLoss: 0.437520\n",
      "Train Epoch : 3 [16000/60000 (27%)] \tLoss: 0.299941\n",
      "Train Epoch : 3 [16640/60000 (28%)] \tLoss: 0.286165\n",
      "Train Epoch : 3 [17280/60000 (29%)] \tLoss: 0.178938\n",
      "Train Epoch : 3 [17920/60000 (30%)] \tLoss: 0.350174\n",
      "Train Epoch : 3 [18560/60000 (31%)] \tLoss: 0.150433\n",
      "Train Epoch : 3 [19200/60000 (32%)] \tLoss: 0.247660\n",
      "Train Epoch : 3 [19840/60000 (33%)] \tLoss: 0.268473\n",
      "Train Epoch : 3 [20480/60000 (34%)] \tLoss: 0.342122\n",
      "Train Epoch : 3 [21120/60000 (35%)] \tLoss: 0.172254\n",
      "Train Epoch : 3 [21760/60000 (36%)] \tLoss: 0.492867\n",
      "Train Epoch : 3 [22400/60000 (37%)] \tLoss: 0.306655\n",
      "Train Epoch : 3 [23040/60000 (38%)] \tLoss: 0.409811\n",
      "Train Epoch : 3 [23680/60000 (39%)] \tLoss: 0.239811\n",
      "Train Epoch : 3 [24320/60000 (41%)] \tLoss: 0.387326\n",
      "Train Epoch : 3 [24960/60000 (42%)] \tLoss: 0.379657\n",
      "Train Epoch : 3 [25600/60000 (43%)] \tLoss: 0.363836\n",
      "Train Epoch : 3 [26240/60000 (44%)] \tLoss: 0.440579\n",
      "Train Epoch : 3 [26880/60000 (45%)] \tLoss: 0.181034\n",
      "Train Epoch : 3 [27520/60000 (46%)] \tLoss: 0.256624\n",
      "Train Epoch : 3 [28160/60000 (47%)] \tLoss: 0.356834\n",
      "Train Epoch : 3 [28800/60000 (48%)] \tLoss: 0.242993\n",
      "Train Epoch : 3 [29440/60000 (49%)] \tLoss: 0.230187\n",
      "Train Epoch : 3 [30080/60000 (50%)] \tLoss: 0.124238\n",
      "Train Epoch : 3 [30720/60000 (51%)] \tLoss: 0.171493\n",
      "Train Epoch : 3 [31360/60000 (52%)] \tLoss: 0.327527\n",
      "Train Epoch : 3 [32000/60000 (53%)] \tLoss: 0.237317\n",
      "Train Epoch : 3 [32640/60000 (54%)] \tLoss: 0.389061\n",
      "Train Epoch : 3 [33280/60000 (55%)] \tLoss: 0.312959\n",
      "Train Epoch : 3 [33920/60000 (57%)] \tLoss: 0.156084\n",
      "Train Epoch : 3 [34560/60000 (58%)] \tLoss: 0.226624\n",
      "Train Epoch : 3 [35200/60000 (59%)] \tLoss: 0.318119\n",
      "Train Epoch : 3 [35840/60000 (60%)] \tLoss: 0.353700\n",
      "Train Epoch : 3 [36480/60000 (61%)] \tLoss: 0.140994\n",
      "Train Epoch : 3 [37120/60000 (62%)] \tLoss: 0.138485\n",
      "Train Epoch : 3 [37760/60000 (63%)] \tLoss: 0.179087\n",
      "Train Epoch : 3 [38400/60000 (64%)] \tLoss: 0.232265\n",
      "Train Epoch : 3 [39040/60000 (65%)] \tLoss: 0.404847\n",
      "Train Epoch : 3 [39680/60000 (66%)] \tLoss: 0.268784\n",
      "Train Epoch : 3 [40320/60000 (67%)] \tLoss: 0.156704\n",
      "Train Epoch : 3 [40960/60000 (68%)] \tLoss: 0.272142\n",
      "Train Epoch : 3 [41600/60000 (69%)] \tLoss: 0.194976\n",
      "Train Epoch : 3 [42240/60000 (70%)] \tLoss: 0.194160\n",
      "Train Epoch : 3 [42880/60000 (71%)] \tLoss: 0.266830\n",
      "Train Epoch : 3 [43520/60000 (72%)] \tLoss: 0.228926\n",
      "Train Epoch : 3 [44160/60000 (74%)] \tLoss: 0.289891\n",
      "Train Epoch : 3 [44800/60000 (75%)] \tLoss: 0.284146\n",
      "Train Epoch : 3 [45440/60000 (76%)] \tLoss: 0.336255\n",
      "Train Epoch : 3 [46080/60000 (77%)] \tLoss: 0.578326\n",
      "Train Epoch : 3 [46720/60000 (78%)] \tLoss: 0.231849\n",
      "Train Epoch : 3 [47360/60000 (79%)] \tLoss: 0.229089\n",
      "Train Epoch : 3 [48000/60000 (80%)] \tLoss: 0.241394\n",
      "Train Epoch : 3 [48640/60000 (81%)] \tLoss: 0.277306\n",
      "Train Epoch : 3 [49280/60000 (82%)] \tLoss: 0.297697\n",
      "Train Epoch : 3 [49920/60000 (83%)] \tLoss: 0.319586\n",
      "Train Epoch : 3 [50560/60000 (84%)] \tLoss: 0.158215\n",
      "Train Epoch : 3 [51200/60000 (85%)] \tLoss: 0.231128\n",
      "Train Epoch : 3 [51840/60000 (86%)] \tLoss: 0.141464\n",
      "Train Epoch : 3 [52480/60000 (87%)] \tLoss: 0.434387\n",
      "Train Epoch : 3 [53120/60000 (88%)] \tLoss: 0.436417\n",
      "Train Epoch : 3 [53760/60000 (90%)] \tLoss: 0.260205\n",
      "Train Epoch : 3 [54400/60000 (91%)] \tLoss: 0.742310\n",
      "Train Epoch : 3 [55040/60000 (92%)] \tLoss: 0.401750\n",
      "Train Epoch : 3 [55680/60000 (93%)] \tLoss: 0.328079\n",
      "Train Epoch : 3 [56320/60000 (94%)] \tLoss: 0.237058\n",
      "Train Epoch : 3 [56960/60000 (95%)] \tLoss: 0.154752\n",
      "Train Epoch : 3 [57600/60000 (96%)] \tLoss: 0.327644\n",
      "Train Epoch : 3 [58240/60000 (97%)] \tLoss: 0.261889\n",
      "Train Epoch : 3 [58880/60000 (98%)] \tLoss: 0.168419\n",
      "Train Epoch : 3 [59520/60000 (99%)] \tLoss: 0.217125\n",
      "\n",
      "Test set: Avg. loss: 0.0946, Accuracy: 9697/10000 (97%)\n",
      "\n"
     ]
    }
   ],
   "source": [
    "test()\n",
    "for epoch in range(1, n_epoch + 1):\n",
    "    train(epoch)\n",
    "    test()"
   ]
  },
  {
   "cell_type": "code",
   "execution_count": 31,
   "metadata": {
    "scrolled": true
   },
   "outputs": [
    {
     "data": {
      "image/png": "[encoded data removed]",
      "text/plain": [
       "<Figure size 432x288 with 1 Axes>"
      ]
     },
     "metadata": {
      "needs_background": "light"
     },
     "output_type": "display_data"
    }
   ],
   "source": [
    "fig = plt.figure()\n",
    "plt.plot(train_counter, grad_value, color='blue')\n",
    "plt.legend(['Gradient Norm'], loc='upper right')\n",
    "plt.xlabel('number of training examples seen')\n",
    "plt.ylabel('gradient norm')\n",
    "plt.show()"
   ]
  }
 ],
 "metadata": {
  "kernelspec": {
   "display_name": "Python 3",
   "language": "python",
   "name": "python3"
  },
  "language_info": {
   "codemirror_mode": {
    "name": "ipython",
    "version": 3
   },
   "file_extension": ".py",
   "mimetype": "text/x-python",
   "name": "python",
   "nbconvert_exporter": "python",
   "pygments_lexer": "ipython3",
   "version": "3.7.9"
  }
 },
 "nbformat": 4,
 "nbformat_minor": 4
}
